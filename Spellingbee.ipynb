{
 "cells": [
  {
   "cell_type": "markdown",
   "metadata": {},
   "source": [
    "# Spelling Bee"
   ]
  },
  {
   "cell_type": "code",
   "execution_count": 1,
   "metadata": {},
   "outputs": [
    {
     "name": "stdout",
     "output_type": "stream",
     "text": [
      "Tuesday September 24, 2024\n",
      "answers 26\n",
      "pangrams ['prodigy']\n",
      "answers ['prodigy', 'dippy', 'dopy', 'drip', 'drippy', 'droop', 'droopy', 'drop', 'goop', 'goopy', 'gorp', 'grip', 'grippy', 'opioid', 'piggy', 'pogo', 'poop', 'poor', 'poppy', 'prig', 'prior', 'priory', 'prod', 'prop', 'pyro', 'ropy']\n"
     ]
    }
   ],
   "source": [
    "import requests\n",
    "import json\n",
    "\n",
    "response = requests.get('https://www.nytimes.com/puzzles/spelling-bee')\n",
    "\n",
    "start = response.text.find('gameData')\n",
    "end = response.text.find('}', start)\n",
    "\n",
    "gameData = response.text[start+11:end+1]\n",
    "gameData += '}'\n",
    "\n",
    "x = json.loads(gameData)\n",
    "print( x['today']['displayWeekday'], x['today']['displayDate'])\n",
    "print('answers', len(x['today']['answers']))\n",
    "print('pangrams', x['today']['pangrams'])\n",
    "print('answers', x['today']['answers'])"
   ]
  },
  {
   "cell_type": "code",
   "execution_count": null,
   "metadata": {},
   "outputs": [],
   "source": []
  }
 ],
 "metadata": {
  "kernelspec": {
   "display_name": "Python 3 (ipykernel)",
   "language": "python",
   "name": "python3"
  },
  "language_info": {
   "codemirror_mode": {
    "name": "ipython",
    "version": 3
   },
   "file_extension": ".py",
   "mimetype": "text/x-python",
   "name": "python",
   "nbconvert_exporter": "python",
   "pygments_lexer": "ipython3",
   "version": "3.11.0"
  }
 },
 "nbformat": 4,
 "nbformat_minor": 4
}
