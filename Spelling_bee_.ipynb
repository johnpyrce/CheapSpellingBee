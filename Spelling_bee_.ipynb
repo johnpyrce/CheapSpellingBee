{
  "nbformat": 4,
  "nbformat_minor": 0,
  "metadata": {
    "colab": {
      "provenance": [],
      "authorship_tag": "ABX9TyOqcEYaYykP0c8VV9zX/WcN",
      "include_colab_link": true
    },
    "kernelspec": {
      "name": "python3",
      "display_name": "Python 3"
    },
    "language_info": {
      "name": "python"
    }
  },
  "cells": [
    {
      "cell_type": "markdown",
      "metadata": {
        "id": "view-in-github",
        "colab_type": "text"
      },
      "source": [
        "<a href=\"https://colab.research.google.com/github/johnpyrce/CheapSpellingBee/blob/main/Spelling_bee_.ipynb\" target=\"_parent\"><img src=\"https://colab.research.google.com/assets/colab-badge.svg\" alt=\"Open In Colab\"/></a>"
      ]
    },
    {
      "cell_type": "code",
      "source": [
        "import requests\n",
        "import json\n",
        "from IPython.display import HTML, display\n",
        "\n",
        "response = requests.get('https://www.nytimes.com/puzzles/spelling-bee')\n",
        "\n",
        "start = response.text.find('gameData')\n",
        "end = response.text.find('}', start)\n",
        "\n",
        "gameData = response.text[start+11:end+1]\n",
        "gameData += '}'\n",
        "\n",
        "x = json.loads(gameData)\n",
        "print( x['today']['displayWeekday'], x['today']['displayDate'])\n",
        "print('answers', len(x['today']['answers']))\n",
        "print('pangrams', x['today']['pangrams'])\n",
        "display(HTML('<style>pre { white-space: pre-wrap; }</style>'))\n",
        "print('answers', x['today']['answers'])"
      ],
      "metadata": {
        "id": "KdC6FxSJLEw-",
        "colab": {
          "base_uri": "https://localhost:8080/",
          "height": 143
        },
        "outputId": "f8e09eb5-9426-4641-e297-92bba421adc2"
      },
      "execution_count": null,
      "outputs": [
        {
          "output_type": "stream",
          "name": "stdout",
          "text": [
            "Monday November 11, 2024\n",
            "answers 33\n",
            "pangrams ['arthropod', 'hardtop']\n"
          ]
        },
        {
          "output_type": "display_data",
          "data": {
            "text/plain": [
              "<IPython.core.display.HTML object>"
            ],
            "text/html": [
              "<style>pre { white-space: pre-wrap; }</style>"
            ]
          },
          "metadata": {}
        },
        {
          "output_type": "stream",
          "name": "stdout",
          "text": [
            "answers ['arthropod', 'hardtop', 'arhat', 'doth', 'hard', 'hardhat', 'harp', 'hart', 'hath', 'hatha', 'hoar', 'hoard', 'hood', 'hoodoo', 'hoop', 'hoorah', 'hoot', 'hora', 'horror', 'hotpot', 'hotrod', 'oath', 'paratha', 'path', 'pharaoh', 'phat', 'photo', 'pooh', 'that', 'throat', 'tooth', 'torah', 'troth']\n"
          ]
        }
      ]
    },
    {
      "cell_type": "markdown",
      "source": [
        "The original."
      ],
      "metadata": {
        "id": "J2ft4KKu15ff"
      }
    },
    {
      "cell_type": "code",
      "execution_count": null,
      "metadata": {
        "id": "innw7TWDVkqO"
      },
      "outputs": [],
      "source": [
        "import requests\n",
        "import json\n",
        "from IPython.display import HTML, display\n",
        "\n",
        "def set_css():\n",
        "  display(HTML('''\n",
        "        <style>\n",
        "            pre {\n",
        "                white-space: pre-wrap;\n",
        "            }\n",
        "        </style>\n",
        "        '''))\n",
        "get_ipython().events.register('pre_run_cell', set_css)\n",
        "\n",
        "response = requests.get('https://www.nytimes.com/puzzles/spelling-bee')\n",
        "\n",
        "start = response.text.find('gameData')\n",
        "end = response.text.find('}', start)\n",
        "\n",
        "gameData = response.text[start+11:end+1]\n",
        "gameData += '}'\n",
        "\n",
        "x = json.loads(gameData)\n",
        "print( x['today']['displayWeekday'], x['today']['displayDate'])\n",
        "print('answers', len(x['today']['answers']))\n",
        "print('pangrams', x['today']['pangrams'])\n",
        "print('answers', x['today']['answers'])"
      ]
    }
  ]
}